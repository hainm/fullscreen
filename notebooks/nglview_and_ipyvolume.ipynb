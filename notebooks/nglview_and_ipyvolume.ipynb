{
 "cells": [
  {
   "cell_type": "code",
   "execution_count": 140,
   "metadata": {},
   "outputs": [
    {
     "data": {
      "text/html": [
       "\n",
       "<style>\n",
       ".abc {\n",
       "  background: white\n",
       "}\n",
       "</style>\n"
      ],
      "text/plain": [
       "<IPython.core.display.HTML object>"
      ]
     },
     "metadata": {},
     "output_type": "display_data"
    },
    {
     "data": {
      "application/vnd.jupyter.widget-view+json": {
       "model_id": "f4eaba0dad084b798f0debd1f8787221",
       "version_major": 2,
       "version_minor": 0
      },
      "text/plain": [
       "GridBox(children=(HBox(children=(NGLWidget(layout=Layout(width='80%')), Figure(camera=PerspectiveCamera(fov=45…"
      ]
     },
     "metadata": {},
     "output_type": "display_data"
    }
   ],
   "source": [
    "import nglview as nv\n",
    "from ipywidgets import *\n",
    "from IPython.display import display, HTML\n",
    "\n",
    "import ipyvolume as ipv\n",
    "import numpy as np\n",
    "x, y, z = np.random.random((3, 10000))\n",
    "iv = ipv.quickscatter(x, y, z, size=1, marker=\"sphere\").children[0]\n",
    "iv\n",
    "\n",
    "v = nv.demo()\n",
    "# p = v.player._display()\n",
    "p = iv\n",
    "# p.layout.align_self = 'stretch'\n",
    "# footer = Box([v.player._make_command_box()])\n",
    "footer = HBox([iv, v])\n",
    "p.layout.width = '50%'\n",
    "center = HBox([v, p])\n",
    "v.layout.width = '80%'\n",
    "app = GridBox([center, footer])\n",
    "app.layout.grid_template_rows = '50% 50%'\n",
    "app.layout.grid_spacing = '0px'\n",
    "center.layout.height = '90%'\n",
    "app.add_class('abc')\n",
    "v.handle_resize()\n",
    "display(HTML(\"\"\"\n",
    "<style>\n",
    ".abc {\n",
    "  background: white\n",
    "}\n",
    "</style>\n",
    "\"\"\"))\n",
    "app"
   ]
  },
  {
   "cell_type": "code",
   "execution_count": 141,
   "metadata": {},
   "outputs": [
    {
     "data": {
      "application/vnd.jupyter.widget-view+json": {
       "model_id": "c1c58937ae7c406e9b97227f2df6413a",
       "version_major": 2,
       "version_minor": 0
      },
      "text/plain": [
       "Fullscreen()"
      ]
     },
     "metadata": {},
     "output_type": "display_data"
    }
   ],
   "source": [
    "from fullscreen import Fullscreen\n",
    "\n",
    "fs = Fullscreen(app)\n",
    "def on(_):\n",
    "    v.handle_resize()\n",
    "    \n",
    "fs.on_fullscreened(on)\n",
    "fs"
   ]
  },
  {
   "cell_type": "code",
   "execution_count": 142,
   "metadata": {},
   "outputs": [],
   "source": [
    "fs.fullscreen()"
   ]
  }
 ],
 "metadata": {
  "kernelspec": {
   "display_name": "Python 3",
   "language": "python",
   "name": "python3"
  },
  "language_info": {
   "codemirror_mode": {
    "name": "ipython",
    "version": 3
   },
   "file_extension": ".py",
   "mimetype": "text/x-python",
   "name": "python",
   "nbconvert_exporter": "python",
   "pygments_lexer": "ipython3",
   "version": "3.7.3"
  }
 },
 "nbformat": 4,
 "nbformat_minor": 4
}

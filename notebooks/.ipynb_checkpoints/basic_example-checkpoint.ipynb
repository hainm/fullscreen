{
 "cells": [
  {
   "cell_type": "code",
   "execution_count": 17,
   "metadata": {},
   "outputs": [],
   "source": [
    "from ipywidgets import Textarea, Play, GridBox, GridspecLayout, Box\n",
    "from fullscreen import Fullscreen\n",
    "from IPython.display import display, HTML\n",
    "import nglview as nv\n",
    "import ipyvolume as ipv\n",
    "from ipyleaflet import Map\n",
    "from bqplot import pyplot as plt\n",
    "import numpy as np"
   ]
  },
  {
   "cell_type": "code",
   "execution_count": 19,
   "metadata": {},
   "outputs": [
    {
     "data": {
      "application/vnd.jupyter.widget-view+json": {
       "model_id": "797e0fab326648c99fbf80fdf62419af",
       "version_major": 2,
       "version_minor": 0
      },
      "text/plain": [
       "Fullscreen()"
      ]
     },
     "metadata": {},
     "output_type": "display_data"
    },
    {
     "data": {
      "text/html": [
       "\n",
       "<style>\n",
       ".abc {\n",
       "  background: white\n",
       "}\n",
       "</style>\n"
      ],
      "text/plain": [
       "<IPython.core.display.HTML object>"
      ]
     },
     "metadata": {},
     "output_type": "display_data"
    },
    {
     "data": {
      "application/vnd.jupyter.widget-view+json": {
       "model_id": "04661a8a27c24ff096088a0d378868f5",
       "version_major": 2,
       "version_minor": 0
      },
      "text/plain": [
       "GridBox(children=(Map(basemap={'url': 'https://{s}.tile.openstreetmap.org/{z}/{x}/{y}.png', 'max_zoom': 19, 'a…"
      ]
     },
     "metadata": {},
     "output_type": "display_data"
    }
   ],
   "source": [
    "# ipyleaflet\n",
    "m = Map(center=[34.6252978589571, -77.34580993652344], zoom=10)\n",
    "m.layout.align_self = 'stretch'\n",
    "m.layout.width = '100%'\n",
    "m.layout.height = '100%'\n",
    "\n",
    "# nglview\n",
    "v = nv.demo()\n",
    "v.gui_style = 'ngl'\n",
    "x, y, z = np.random.random((3, 10000))\n",
    "\n",
    "# ipyvolume\n",
    "fig = ipv.quickscatter(x, y, z, size=1, marker=\"sphere\")\n",
    "\n",
    "# bqplot\n",
    "from bqplot import (\n",
    "    OrdinalScale, LinearScale, Bars, Lines, Axis, Figure\n",
    ")\n",
    "\n",
    "size = 20\n",
    "np.random.seed(0)\n",
    "\n",
    "x_data = np.arange(size)\n",
    "\n",
    "x_ord = OrdinalScale()\n",
    "y_sc = LinearScale()\n",
    "\n",
    "bar = Bars(x=x_data, y=np.random.randn(2, size), scales={'x': x_ord, 'y':\n",
    "y_sc}, type='stacked')\n",
    "line = Lines(x=x_data, y=np.random.randn(size), scales={'x': x_ord, 'y': y_sc},\n",
    "             stroke_width=3, colors=['red'], display_legend=True, labels=['Line chart'])\n",
    "\n",
    "ax_x = Axis(scale=x_ord, grid_lines='solid', label='X')\n",
    "ax_y = Axis(scale=y_sc, orientation='vertical', tick_format='0.2f',\n",
    "            grid_lines='solid', label='Y')\n",
    "\n",
    "bq_fig = Figure(marks=[bar, line], axes=[ax_x, ax_y], title='API Example',\n",
    "       legend_location='bottom-right')\n",
    "bq_fig.layout.width = '50%'\n",
    "# app\n",
    "b = GridBox([m, Box([v]), bq_fig, fig])\n",
    "b.layout.grid_template_columns = '50% 50%'\n",
    "b.layout.grid_template_rows = '50% 50%'\n",
    "fs = Fullscreen(b, [v])\n",
    "display(fs)\n",
    "\n",
    "b.add_class('abc')\n",
    "\n",
    "display(HTML(\"\"\"\n",
    "<style>\n",
    ".abc {\n",
    "  background: white\n",
    "}\n",
    "</style>\n",
    "\"\"\"))\n",
    "b"
   ]
  },
  {
   "cell_type": "code",
   "execution_count": 20,
   "metadata": {},
   "outputs": [],
   "source": [
    "fs.fullscreen()"
   ]
  }
 ],
 "metadata": {
  "kernelspec": {
   "display_name": "Python 3",
   "language": "python",
   "name": "python3"
  },
  "language_info": {
   "codemirror_mode": {
    "name": "ipython",
    "version": 3
   },
   "file_extension": ".py",
   "mimetype": "text/x-python",
   "name": "python",
   "nbconvert_exporter": "python",
   "pygments_lexer": "ipython3",
   "version": "3.7.3"
  }
 },
 "nbformat": 4,
 "nbformat_minor": 1
}
